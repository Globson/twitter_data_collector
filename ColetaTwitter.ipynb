{
 "cells": [
  {
   "cell_type": "markdown",
   "metadata": {},
   "source": [
    "### Coleta usando a API do twitter"
   ]
  },
  {
   "cell_type": "code",
   "execution_count": 20,
   "metadata": {},
   "outputs": [
    {
     "name": "stdout",
     "output_type": "stream",
     "text": [
      "<class 'oauth2.Consumer'>\n"
     ]
    }
   ],
   "source": [
    "#Coleta\n",
    "import oauth2\n",
    "print(oauth2.Consumer)"
   ]
  },
  {
   "cell_type": "code",
   "execution_count": 21,
   "metadata": {},
   "outputs": [],
   "source": [
    "import json\n",
    "import pandas as pd\n",
    "import csv\n",
    "import nltk\n",
    "from nltk.tokenize import TweetTokenizer"
   ]
  },
  {
   "cell_type": "code",
   "execution_count": 4,
   "metadata": {},
   "outputs": [],
   "source": [
    "def criaJsonSaida(json_input):\n",
    "    return {\n",
    "        \"id\": json_input[\"id\"],\n",
    "        \"data_criacao\": json_input[\"created_at\"],\n",
    "        \"text\": json_input[\"full_text\"].lower(),\n",
    "        \"usuario\": json_input[\"user\"][\"name\"],\n",
    "        \"e_sobre_a_empresa\": None\n",
    "    }\n",
    "\n",
    "def get_requisicao(cliente, max_id, termo):\n",
    "    requisicao = cliente.request(\n",
    "        'https://api.twitter.com/1.1/search/tweets.json?q={termo}&tweet_mode=extended&result_type=recent&lang=pt-br&count=3&{max_id}'.format(max_id=max_id, termo=termo))\n",
    "    decodificar = requisicao[1].decode()\n",
    "    try:\n",
    "        objeto = json.loads(decodificar)\n",
    "        return objeto['statuses']\n",
    "    except Exception:\n",
    "        print(objeto)\n",
    "\n",
    "def coleta(api_key, api_secret_key, token_key, token_secret_key, termo, num_tweets, arquivo_saida):\n",
    "    consumer = oauth2.Consumer(api_key, api_secret_key)\n",
    "    token = oauth2.Token(token_key, token_secret_key)\n",
    "    cliente = oauth2.Client(consumer, token)\n",
    "    strUrl = \"\"\n",
    "    max_id = \"\"\n",
    "    num_tweets_collected = 0\n",
    "\n",
    "    tweetsColetados = {\n",
    "        \"tweets\": []\n",
    "    }\n",
    "\n",
    "    mantem_tweeets_nao_repetidos = set()\n",
    "    \n",
    "    try:\n",
    "        # coleta os tweets\n",
    "        while(num_tweets_collected < num_tweets):\n",
    "            tweets = get_requisicao(cliente, max_id, termo)            \n",
    "            for tweet in tweets:\n",
    "                tweet_saida = criaJsonSaida(tweet)\n",
    "                par_unico = (tweet_saida[\"usuario\"], tweet_saida[\"data_criacao\"])\n",
    "                if par_unico not in mantem_tweeets_nao_repetidos:\n",
    "                    mantem_tweeets_nao_repetidos.add(par_unico)\n",
    "                    tweetsColetados[\"tweets\"] += [criaJsonSaida(tweet)]\n",
    "                \n",
    "                max_id = \"max_id={max_id}&\".format(max_id=tweet['id'])\n",
    "                num_tweets_collected += 1\n",
    "    except Exception as e:\n",
    "        print(e)\n",
    "    finally:\n",
    "        with open(arquivo_saida, 'w') as f:\n",
    "            f.write(json.dumps(tweetsColetados[\"tweets\"], indent=2))\n"
   ]
  },
  {
   "cell_type": "code",
   "execution_count": 5,
   "metadata": {},
   "outputs": [],
   "source": [
    "# inicializa keys\n",
    "api_key = 'suaAPIKey'\n",
    "api_secret_key = 'suaAPISecretKey'\n",
    "token_key = 'suaTokenKey'\n",
    "token_secret_key = 'suaTokenSecretKey'\n",
    "termo = 'sadia'\n",
    "num_tweets = 100\n",
    "arquivo_com_tweetes_coletados = 'tweets_coletados.json'\n",
    "\n",
    "try:\n",
    "    coleta(api_key, api_secret_key, token_key,\n",
    "           token_secret_key, termo, num_tweets, arquivo_com_tweetes_coletados)\n",
    "except Exception as e:\n",
    "    print(e)"
   ]
  },
  {
   "cell_type": "markdown",
   "metadata": {},
   "source": [
    "### Gerando csv com os tweets a serem rotulados"
   ]
  },
  {
   "cell_type": "code",
   "execution_count": 8,
   "metadata": {},
   "outputs": [],
   "source": [
    "with open(arquivo_com_tweetes_coletados, 'r') as f:\n",
    "    dic_tweets = json.loads(f.read())\n",
    "    tweetsDF = pd.read_json(json.dumps(dic_tweets))\n",
    "nome_arquivo_com_tweetes_rotulados = 'tweets_coletados.csv'\n",
    "tweetsDF.to_csv(nome_arquivo_com_tweetes_rotulados, quoting=csv.QUOTE_ALL, index=False)"
   ]
  },
  {
   "cell_type": "markdown",
   "metadata": {},
   "source": [
    "### Lendo o csv com os tweets rotulados"
   ]
  },
  {
   "cell_type": "code",
   "execution_count": 9,
   "metadata": {},
   "outputs": [],
   "source": [
    "tweets_rotuladosDF = pd.read_csv(nome_arquivo_com_tweetes_rotulados,quoting=csv.QUOTE_ALL)"
   ]
  },
  {
   "cell_type": "markdown",
   "metadata": {},
   "source": [
    "Quantidade de tweets por classe"
   ]
  },
  {
   "cell_type": "code",
   "execution_count": 11,
   "metadata": {},
   "outputs": [
    {
     "name": "stdout",
     "output_type": "stream",
     "text": [
      "Sobre a Sadia: 0 tweets\n",
      "Sobre outro assunto: 0 tweets\n"
     ]
    }
   ],
   "source": [
    "sobre_a_sadia_qtd = tweets_rotuladosDF[tweets_rotuladosDF.e_sobre_a_empresa == 1]['e_sobre_a_empresa'].count()\n",
    "sobre_outros_qtd = tweets_rotuladosDF['e_sobre_a_empresa'].count() - sobre_a_sadia_qtd\n",
    "print(\"Sobre a Sadia: \" +str(sobre_a_sadia_qtd) + \" tweets\")\n",
    "print(\"Sobre outro assunto: \" +str(sobre_outros_qtd) + \" tweets\")"
   ]
  },
  {
   "cell_type": "markdown",
   "metadata": {},
   "source": [
    "### Identificando os brigramas e trigramas encontrados nos twittes (TODO)"
   ]
  },
  {
   "cell_type": "code",
   "execution_count": 39,
   "metadata": {},
   "outputs": [
    {
     "name": "stdout",
     "output_type": "stream",
     "text": [
      "0\n",
      "data_criacao                            Sun Apr 21 21:43:51 +0000 2019\n",
      "e_sobre_a_empresa                                                    1\n",
      "id                                               1,12008073153398E+018\n",
      "text                 rt @calazani: com quantos anos você descobriu ...\n",
      "usuario                                               Daniela Pinheiro\n",
      "Name: 0, dtype: object\n",
      "---------\n",
      "1\n",
      "data_criacao                            Sun Apr 21 21:41:28 +0000 2019\n",
      "e_sobre_a_empresa                                                    1\n",
      "id                                                1,1200801331871E+018\n",
      "text                 rt @calazani: com quantos anos você descobriu ...\n",
      "usuario                                                   Filipe Souza\n",
      "Name: 1, dtype: object\n",
      "---------\n",
      "2\n",
      "data_criacao                            Sun Apr 21 21:37:04 +0000 2019\n",
      "e_sobre_a_empresa                                                    1\n",
      "id                                               1,12007902504773E+018\n",
      "text                 rt @calazani: com quantos anos você descobriu ...\n",
      "usuario                                                           hugo\n",
      "Name: 2, dtype: object\n",
      "---------\n",
      "3\n",
      "data_criacao                            Sun Apr 21 21:32:56 +0000 2019\n",
      "e_sobre_a_empresa                                                    1\n",
      "id                                               1,12007798769579E+018\n",
      "text                 @calazani @sadia eu to em choque, q isso vc é ...\n",
      "usuario                                                      ɢᴀʙʀɪᴇʟʟʏ\n",
      "Name: 3, dtype: object\n",
      "---------\n",
      "4\n",
      "data_criacao                            Sun Apr 21 21:32:33 +0000 2019\n",
      "e_sobre_a_empresa                                                    1\n",
      "id                                                1,1200778905263E+018\n",
      "text                 @calazani @sadia moço você quebrou a internet ...\n",
      "usuario                                                      ɢᴀʙʀɪᴇʟʟʏ\n",
      "Name: 4, dtype: object\n",
      "---------\n"
     ]
    }
   ],
   "source": [
    "n = 0\n",
    "for indice, linha in tweets_rotuladosDF.iterrows() :\n",
    "    if( n == 5):\n",
    "        break\n",
    "    print(indice)\n",
    "    print(linha)\n",
    "    print(\"---------\")\n",
    "    n += 1"
   ]
  },
  {
   "cell_type": "code",
   "execution_count": null,
   "metadata": {},
   "outputs": [],
   "source": []
  }
 ],
 "metadata": {
  "kernelspec": {
   "display_name": "Python 3",
   "language": "python",
   "name": "python3"
  },
  "language_info": {
   "codemirror_mode": {
    "name": "ipython",
    "version": 3
   },
   "file_extension": ".py",
   "mimetype": "text/x-python",
   "name": "python",
   "nbconvert_exporter": "python",
   "pygments_lexer": "ipython3",
   "version": "3.6.8"
  }
 },
 "nbformat": 4,
 "nbformat_minor": 2
}
