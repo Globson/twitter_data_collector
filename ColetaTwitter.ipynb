{
 "cells": [
  {
   "cell_type": "markdown",
   "metadata": {},
   "source": [
    "### Coleta usando a API do twitter"
   ]
  },
  {
   "cell_type": "code",
   "execution_count": 20,
   "metadata": {},
   "outputs": [
    {
     "name": "stdout",
     "output_type": "stream",
     "text": [
      "<class 'oauth2.Consumer'>\n"
     ]
    }
   ],
   "source": [
    "#Coleta\n",
    "import oauth2\n",
    "print(oauth2.Consumer)"
   ]
  },
  {
   "cell_type": "code",
   "execution_count": 21,
   "metadata": {},
   "outputs": [],
   "source": [
    "import json\n",
    "import pandas as pd\n",
    "import csv\n",
    "#Pre processamento\n",
    "import string \n",
    "import re\n",
    "#Ngrams\n",
    "import nltk\n",
    "from nltk.tokenize import TweetTokenizer"
   ]
  },
  {
   "cell_type": "code",
   "execution_count": 4,
   "metadata": {},
   "outputs": [],
   "source": [
    "def criaJsonSaida(json_input):\n",
    "    return {\n",
    "        \"id\": json_input[\"id\"],\n",
    "        \"data_criacao\": json_input[\"created_at\"],\n",
    "        \"text\": json_input[\"full_text\"].lower(),\n",
    "        \"usuario\": json_input[\"user\"][\"name\"],\n",
    "        \"e_sobre_a_empresa\": None\n",
    "    }\n",
    "\n",
    "def get_requisicao(cliente, max_id, termo):\n",
    "    requisicao = cliente.request(\n",
    "        'https://api.twitter.com/1.1/search/tweets.json?q={termo}&tweet_mode=extended&result_type=recent&lang=pt-br&count=3&{max_id}'.format(max_id=max_id, termo=termo))\n",
    "    decodificar = requisicao[1].decode()\n",
    "    try:\n",
    "        objeto = json.loads(decodificar)\n",
    "        return objeto['statuses']\n",
    "    except Exception:\n",
    "        print(objeto)\n",
    "\n",
    "def coleta(api_key, api_secret_key, token_key, token_secret_key, termo, num_tweets, arquivo_saida):\n",
    "    consumer = oauth2.Consumer(api_key, api_secret_key)\n",
    "    token = oauth2.Token(token_key, token_secret_key)\n",
    "    cliente = oauth2.Client(consumer, token)\n",
    "    strUrl = \"\"\n",
    "    max_id = \"\"\n",
    "    num_tweets_collected = 0\n",
    "\n",
    "    tweetsColetados = {\n",
    "        \"tweets\": []\n",
    "    }\n",
    "\n",
    "    mantem_tweeets_nao_repetidos = set()\n",
    "    \n",
    "    try:\n",
    "        # coleta os tweets\n",
    "        while(num_tweets_collected < num_tweets):\n",
    "            tweets = get_requisicao(cliente, max_id, termo)            \n",
    "            for tweet in tweets:\n",
    "                tweet_saida = criaJsonSaida(tweet)\n",
    "                par_unico = (tweet_saida[\"usuario\"], tweet_saida[\"data_criacao\"])\n",
    "                if par_unico not in mantem_tweeets_nao_repetidos:\n",
    "                    mantem_tweeets_nao_repetidos.add(par_unico)\n",
    "                    tweetsColetados[\"tweets\"] += [criaJsonSaida(tweet)]\n",
    "                \n",
    "                max_id = \"max_id={max_id}&\".format(max_id=tweet['id'])\n",
    "                num_tweets_collected += 1\n",
    "    except Exception as e:\n",
    "        print(e)\n",
    "    finally:\n",
    "        with open(arquivo_saida, 'w') as f:\n",
    "            f.write(json.dumps(tweetsColetados[\"tweets\"], indent=2))\n"
   ]
  },
  {
   "cell_type": "code",
   "execution_count": 5,
   "metadata": {},
   "outputs": [],
   "source": [
    "# inicializa keys\n",
    "api_key = 'suaAPIKey'\n",
    "api_secret_key = 'suaAPISecretKey'\n",
    "token_key = 'suaTokenKey'\n",
    "token_secret_key = 'suaTokenSecretKey'\n",
    "termo = 'sadia'\n",
    "num_tweets = 100\n",
    "arquivo_com_tweetes_coletados = 'tweets_coletados.json'\n",
    "\n",
    "try:\n",
    "    coleta(api_key, api_secret_key, token_key,\n",
    "           token_secret_key, termo, num_tweets, arquivo_com_tweetes_coletados)\n",
    "except Exception as e:\n",
    "    print(e)"
   ]
  },
  {
   "cell_type": "markdown",
   "metadata": {},
   "source": [
    "### Gerando csv com os tweets a serem rotulados"
   ]
  },
  {
   "cell_type": "code",
   "execution_count": 8,
   "metadata": {},
   "outputs": [],
   "source": [
    "with open(arquivo_com_tweetes_coletados, 'r') as f:\n",
    "    dic_tweets = json.loads(f.read())\n",
    "    tweetsDF = pd.read_json(json.dumps(dic_tweets))\n",
    "nome_arquivo_com_tweetes_rotulados = 'tweets_coletados.csv'\n",
    "tweetsDF.to_csv(nome_arquivo_com_tweetes_rotulados, quoting=csv.QUOTE_ALL, index=False)"
   ]
  },
  {
   "cell_type": "markdown",
   "metadata": {},
   "source": [
    "### Lendo o csv com os tweets rotulados"
   ]
  },
  {
   "cell_type": "code",
   "execution_count": 9,
   "metadata": {},
   "outputs": [],
   "source": [
    "tweets_rotuladosDF = pd.read_csv(nome_arquivo_com_tweetes_rotulados,quoting=csv.QUOTE_ALL)"
   ]
  },
  {
   "cell_type": "markdown",
   "metadata": {},
   "source": [
    "Quantidade de tweets por classe"
   ]
  },
  {
   "cell_type": "code",
   "execution_count": 11,
   "metadata": {},
   "outputs": [
    {
     "name": "stdout",
     "output_type": "stream",
     "text": [
      "Sobre a Sadia: 0 tweets\n",
      "Sobre outro assunto: 0 tweets\n"
     ]
    }
   ],
   "source": [
    "sobre_a_sadia_qtd = tweets_rotuladosDF[tweets_rotuladosDF.e_sobre_a_empresa == 1]['e_sobre_a_empresa'].count()\n",
    "sobre_outros_qtd = tweets_rotuladosDF['e_sobre_a_empresa'].count() - sobre_a_sadia_qtd\n",
    "print(\"Sobre a Sadia: \" +str(sobre_a_sadia_qtd) + \" tweets\")\n",
    "print(\"Sobre outro assunto: \" +str(sobre_outros_qtd) + \" tweets\")"
   ]
  },
  {
   "cell_type": "markdown",
   "metadata": {},
   "source": [
    "### Identificando os brigramas e trigramas encontrados nos twittes"
   ]
  },
  {
   "cell_type": "code",
   "execution_count": 28,
   "metadata": {},
   "outputs": [],
   "source": [
    "def novo_n_gram(ngram, bioutrigram, e_sobre_a_empresa):\n",
    "    if e_sobre_a_empresa:\n",
    "        ngram[bioutrigram] = {\"sobre_a_sadia\" : 1 , \"sobre_outros\" : 0}\n",
    "    else:\n",
    "        ngram[bioutrigram] = {\"sobre_a_sadia\" : 0 , \"sobre_outros\" : 1}\n",
    "def incrementa_n_gram(ngram, bioutrigram, e_sobre_a_empresa):\n",
    "    valor = ngram.get(bioutrigram)\n",
    "    if e_sobre_a_empresa:\n",
    "        valor[\"sobre_a_sadia\"] += 1\n",
    "    else:\n",
    "        valor[\"sobre_outros\"] += 1"
   ]
  },
  {
   "cell_type": "code",
   "execution_count": 29,
   "metadata": {},
   "outputs": [],
   "source": [
    "tknzr = TweetTokenizer()\n",
    "\n",
    "ngram = {}\n",
    "\n",
    "for indice, linha in tweets_rotuladosDF.iterrows() :\n",
    "    tokens = tknzr.tokenize(linha[tweets_rotuladosDF.text.name])\n",
    "    for count in range(len(tokens)):\n",
    "        if(tokens[count] == 'sadia'):\n",
    "            bigram = (tokens[count - 1], tokens[count])    \n",
    "            if ngram.get(bigram) == None:\n",
    "                novo_n_gram(ngram, bigram, linha['e_sobre_a_empresa'])\n",
    "            else:\n",
    "                incrementa_n_gram(ngram, bigram, linha['e_sobre_a_empresa'])\n",
    "            \n",
    "            trigram = (tokens[count - 2], tokens[count - 1], tokens[count])\n",
    "            if ngram.get(trigram) == None:\n",
    "                novo_n_gram(ngram, trigram, linha['e_sobre_a_empresa'])\n",
    "            else:\n",
    "                incrementa_n_gram(ngram, trigram, linha['e_sobre_a_empresa'])         "
   ]
  },
  {
   "cell_type": "markdown",
   "metadata": {},
   "source": [
    "ngram.items() retorna uma lista de tuplas com o seguinte formato ( ngram, {'sobre_a_sadia': qtd, 'sobre_outros': qtd} ), onde a posicao 0 é o ngram e a posicao 1 é o dicionário \n"
   ]
  },
  {
   "cell_type": "code",
   "execution_count": 30,
   "metadata": {},
   "outputs": [],
   "source": [
    "ngram_ordenado = sorted(ngram.items(), key=lambda x: x[1]['sobre_a_sadia'], reverse=True)"
   ]
  },
  {
   "cell_type": "markdown",
   "metadata": {},
   "source": [
    "Imprimindo os n mais frequetes"
   ]
  },
  {
   "cell_type": "code",
   "execution_count": 31,
   "metadata": {},
   "outputs": [
    {
     "data": {
      "text/html": [
       "<div>\n",
       "<style scoped>\n",
       "    .dataframe tbody tr th:only-of-type {\n",
       "        vertical-align: middle;\n",
       "    }\n",
       "\n",
       "    .dataframe tbody tr th {\n",
       "        vertical-align: top;\n",
       "    }\n",
       "\n",
       "    .dataframe thead th {\n",
       "        text-align: right;\n",
       "    }\n",
       "</style>\n",
       "<table border=\"1\" class=\"dataframe\">\n",
       "  <thead>\n",
       "    <tr style=\"text-align: right;\">\n",
       "      <th></th>\n",
       "      <th>ngram</th>\n",
       "      <th>sobre a sadia (%)</th>\n",
       "      <th>sobre outros (%)</th>\n",
       "    </tr>\n",
       "  </thead>\n",
       "  <tbody>\n",
       "    <tr>\n",
       "      <th>0</th>\n",
       "      <td>(da, sadia)</td>\n",
       "      <td>1.0</td>\n",
       "      <td>0.0</td>\n",
       "    </tr>\n",
       "    <tr>\n",
       "      <th>1</th>\n",
       "      <td>(mascote, da, sadia)</td>\n",
       "      <td>1.0</td>\n",
       "      <td>0.0</td>\n",
       "    </tr>\n",
       "    <tr>\n",
       "      <th>2</th>\n",
       "      <td>(amizade, sadia)</td>\n",
       "      <td>1.0</td>\n",
       "      <td>0.0</td>\n",
       "    </tr>\n",
       "    <tr>\n",
       "      <th>3</th>\n",
       "      <td>(brahma, sadia)</td>\n",
       "      <td>1.0</td>\n",
       "      <td>0.0</td>\n",
       "    </tr>\n",
       "    <tr>\n",
       "      <th>4</th>\n",
       "      <td>(aquela, brahma, sadia)</td>\n",
       "      <td>1.0</td>\n",
       "      <td>0.0</td>\n",
       "    </tr>\n",
       "    <tr>\n",
       "      <th>5</th>\n",
       "      <td>(ser, sadia)</td>\n",
       "      <td>1.0</td>\n",
       "      <td>0.0</td>\n",
       "    </tr>\n",
       "    <tr>\n",
       "      <th>6</th>\n",
       "      <td>(:, ser, sadia)</td>\n",
       "      <td>1.0</td>\n",
       "      <td>0.0</td>\n",
       "    </tr>\n",
       "    <tr>\n",
       "      <th>7</th>\n",
       "      <td>(forma, sadia)</td>\n",
       "      <td>1.0</td>\n",
       "      <td>0.0</td>\n",
       "    </tr>\n",
       "    <tr>\n",
       "      <th>8</th>\n",
       "      <td>(de, forma, sadia)</td>\n",
       "      <td>1.0</td>\n",
       "      <td>0.0</td>\n",
       "    </tr>\n",
       "    <tr>\n",
       "      <th>9</th>\n",
       "      <td>(pela, sadia)</td>\n",
       "      <td>1.0</td>\n",
       "      <td>0.0</td>\n",
       "    </tr>\n",
       "  </tbody>\n",
       "</table>\n",
       "</div>"
      ],
      "text/plain": [
       "                     ngram  sobre a sadia (%)  sobre outros (%)\n",
       "0              (da, sadia)                1.0               0.0\n",
       "1     (mascote, da, sadia)                1.0               0.0\n",
       "2         (amizade, sadia)                1.0               0.0\n",
       "3          (brahma, sadia)                1.0               0.0\n",
       "4  (aquela, brahma, sadia)                1.0               0.0\n",
       "5             (ser, sadia)                1.0               0.0\n",
       "6          (:, ser, sadia)                1.0               0.0\n",
       "7           (forma, sadia)                1.0               0.0\n",
       "8       (de, forma, sadia)                1.0               0.0\n",
       "9            (pela, sadia)                1.0               0.0"
      ]
     },
     "execution_count": 31,
     "metadata": {},
     "output_type": "execute_result"
    }
   ],
   "source": [
    "n = 10\n",
    "resultado = pd.DataFrame()\n",
    "contador = 1\n",
    "for tupla in ngram_ordenado:\n",
    "    if(contador > n):\n",
    "        break\n",
    "    chaves = tupla[0]\n",
    "    valores = tupla[1]\n",
    "    total = valores['sobre_a_sadia'] + valores['sobre_outros']\n",
    "    resultado = resultado.append({'ngram': chaves, 'sobre a sadia (%)': valores['sobre_a_sadia']/total, 'sobre outros (%)': valores['sobre_outros']/total}, ignore_index=True )\n",
    "    contador += 1 \n",
    "resultado"
   ]
  },
  {
   "cell_type": "code",
   "execution_count": null,
   "metadata": {},
   "outputs": [],
   "source": []
  }
 ],
 "metadata": {
  "kernelspec": {
   "display_name": "Python 3",
   "language": "python",
   "name": "python3"
  },
  "language_info": {
   "codemirror_mode": {
    "name": "ipython",
    "version": 3
   },
   "file_extension": ".py",
   "mimetype": "text/x-python",
   "name": "python",
   "nbconvert_exporter": "python",
   "pygments_lexer": "ipython3",
   "version": "3.6.8"
  }
 },
 "nbformat": 4,
 "nbformat_minor": 2
}
