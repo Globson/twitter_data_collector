{
 "cells": [
  {
   "cell_type": "markdown",
   "metadata": {},
   "source": [
    "### Coleta usando a API do twitter"
   ]
  },
  {
   "cell_type": "code",
   "execution_count": 1,
   "metadata": {},
   "outputs": [],
   "source": [
    "import oauth2\n",
    "import sys\n",
    "import os\n",
    "import json\n",
    "import time\n",
    "import csv\n",
    "import pandas as pd\n",
    "import nltk\n",
    "from nltk.tokenize import TweetTokenizer\n",
    "import threading\n",
    "import re"
   ]
  },
  {
   "cell_type": "code",
   "execution_count": 2,
   "metadata": {},
   "outputs": [],
   "source": [
    "def criaJsonSaida(json_input):\n",
    "    return {\n",
    "        \"id\": json_input[\"id\"],\n",
    "        \"data_criacao\": json_input[\"created_at\"],\n",
    "        \"text\": json_input[\"full_text\"].lower(),\n",
    "        \"usuario\": json_input[\"user\"][\"name\"],\n",
    "        \"e_sobre_a_empresa\": None\n",
    "    }\n",
    "\n",
    "def get_requisicao(cliente, max_id, termo):\n",
    "    requisicao = cliente.request(\n",
    "        'https://api.twitter.com/1.1/search/tweets.json?q={termo}&tweet_mode=extended&result_type=recent&lang=pt-br&count=3&{max_id}'.format(max_id=max_id, termo=termo))\n",
    "    decodificar = requisicao[1].decode()\n",
    "    try:\n",
    "        objeto = json.loads(decodificar)\n",
    "        return objeto['statuses']\n",
    "    except Exception:\n",
    "        print(objeto)\n",
    "\n",
    "def coleta(api_key, api_secret_key, token_key, token_secret_key, termo, num_tweets, arquivo_saida):\n",
    "    consumer = oauth2.Consumer(api_key, api_secret_key)\n",
    "    token = oauth2.Token(token_key, token_secret_key)\n",
    "    cliente = oauth2.Client(consumer, token)\n",
    "    strUrl = \"\"\n",
    "    max_id = \"\"\n",
    "    num_tweets_collected = 0\n",
    "\n",
    "    tweetsColetados = {\n",
    "        \"tweets\": []\n",
    "    }\n",
    "\n",
    "    dataset = {}\n",
    "    \n",
    "    try:\n",
    "        # coleta os tweets\n",
    "        while(num_tweets_collected < num_tweets):\n",
    "            tweets = get_requisicao(cliente, max_id, termo)            \n",
    "            for tweet in tweets:\n",
    "                tweet_saida = criaJsonSaida(tweet)\n",
    "                par_unico = (tweet_saida[\"usuario\"], tweet_saida[\"data_criacao\"])\n",
    "                if dataset.get(par_unico) == None:\n",
    "                    dataset[par_unico] = { \"id\" : tweet_saida[\"id\"]}\n",
    "                    tweetsColetados[\"tweets\"] += [criaJsonSaida(tweet)]\n",
    "                \n",
    "                max_id = \"max_id={max_id}&\".format(max_id=tweet['id'])\n",
    "                num_tweets_collected += 1\n",
    "    except Exception as e:\n",
    "        print(e)\n",
    "    finally:\n",
    "        with open(arquivo_saida, 'w') as f:\n",
    "            f.write(json.dumps(tweetsColetados[\"tweets\"], indent=2))\n"
   ]
  },
  {
   "cell_type": "code",
   "execution_count": 4,
   "metadata": {},
   "outputs": [
    {
     "name": "stdout",
     "output_type": "stream",
     "text": [
      "{'errors': [{'code': 88, 'message': 'Rate limit exceeded'}]}\n",
      "'NoneType' object is not iterable\n"
     ]
    }
   ],
   "source": [
    "# inicializa keys\n",
    "api_key = '7lAndD8Xck9bXWN8XIma6poIR'\n",
    "api_secret_key = '65RHfWySuVQzOEYxLRBIBYRWM92AdLOOjtBB1ZrrEaDzgGR55p'\n",
    "token_key = '1117583656887947264-Nve0qICFP5gL3YH6NyqyanT1HOd8S4'\n",
    "token_secret_key = 'c2N8kmDIhYLLYoreWGrohRamGzf0U4MhbNNxRP8PUfAzP'\n",
    "termo = 'sadia'\n",
    "num_tweets = 300\n",
    "arquivo_com_tweetes_coletados = 'tweets_coleta_iterativa.json'\n",
    "\n",
    "try:\n",
    "    coleta(api_key, api_secret_key, token_key,\n",
    "           token_secret_key, termo, num_tweets, arquivo_com_tweetes_coletados)\n",
    "except Exception as e:\n",
    "    print(e)"
   ]
  },
  {
   "cell_type": "markdown",
   "metadata": {},
   "source": [
    "### Gerando csv com os tweets a serem rotulados"
   ]
  },
  {
   "cell_type": "code",
   "execution_count": 5,
   "metadata": {},
   "outputs": [],
   "source": [
    "with open(arquivo_com_tweetes_coletados, 'r') as f:\n",
    "    dic_tweets = json.loads(f.read())\n",
    "    tweetsDF = pd.read_json(json.dumps(dic_tweets))\n",
    "nome_arquivo_com_tweetes_rotulados = 'tweets.csv'\n",
    "tweetsDF.to_csv(nome_arquivo_com_tweetes_rotulados, quoting=csv.QUOTE_ALL)"
   ]
  },
  {
   "cell_type": "markdown",
   "metadata": {},
   "source": [
    "### Lendo o csv com os tweets rotulados"
   ]
  },
  {
   "cell_type": "code",
   "execution_count": 6,
   "metadata": {},
   "outputs": [],
   "source": [
    "tweets_rotuladosDF = pd.read_csv(nome_arquivo_com_tweetes_rotulados)"
   ]
  },
  {
   "cell_type": "code",
   "execution_count": 7,
   "metadata": {},
   "outputs": [
    {
     "data": {
      "text/html": [
       "<div>\n",
       "<style scoped>\n",
       "    .dataframe tbody tr th:only-of-type {\n",
       "        vertical-align: middle;\n",
       "    }\n",
       "\n",
       "    .dataframe tbody tr th {\n",
       "        vertical-align: top;\n",
       "    }\n",
       "\n",
       "    .dataframe thead th {\n",
       "        text-align: right;\n",
       "    }\n",
       "</style>\n",
       "<table border=\"1\" class=\"dataframe\">\n",
       "  <thead>\n",
       "    <tr style=\"text-align: right;\">\n",
       "      <th></th>\n",
       "      <th>Unnamed: 0</th>\n",
       "      <th>data_criacao</th>\n",
       "      <th>e_sobre_a_empresa</th>\n",
       "      <th>id</th>\n",
       "      <th>text</th>\n",
       "      <th>usuario</th>\n",
       "    </tr>\n",
       "  </thead>\n",
       "  <tbody>\n",
       "    <tr>\n",
       "      <th>0</th>\n",
       "      <td>0</td>\n",
       "      <td>Sat Apr 20 02:16:46 +0000 2019</td>\n",
       "      <td>NaN</td>\n",
       "      <td>1119424638239608832</td>\n",
       "      <td>ainda bem também que tenho todas as ligações d...</td>\n",
       "      <td>ilariê</td>\n",
       "    </tr>\n",
       "    <tr>\n",
       "      <th>1</th>\n",
       "      <td>1</td>\n",
       "      <td>Sat Apr 20 02:03:54 +0000 2019</td>\n",
       "      <td>NaN</td>\n",
       "      <td>1119421403080609792</td>\n",
       "      <td>@crf_gusta entro não po, conversa sadia, conve...</td>\n",
       "      <td>insta: @igo_r02</td>\n",
       "    </tr>\n",
       "    <tr>\n",
       "      <th>2</th>\n",
       "      <td>2</td>\n",
       "      <td>Sat Apr 20 01:57:29 +0000 2019</td>\n",
       "      <td>NaN</td>\n",
       "      <td>1119419787627696128</td>\n",
       "      <td>@viinicius_157 @ig_siilvaa conversa tá sadia r...</td>\n",
       "      <td>Barbosa</td>\n",
       "    </tr>\n",
       "    <tr>\n",
       "      <th>3</th>\n",
       "      <td>3</td>\n",
       "      <td>Sat Apr 20 01:54:49 +0000 2019</td>\n",
       "      <td>NaN</td>\n",
       "      <td>1119419116929077249</td>\n",
       "      <td>@mr_pi31415 @viniciusdeborba @brazbruno05 @rii...</td>\n",
       "      <td>mAThEUs Conradt</td>\n",
       "    </tr>\n",
       "    <tr>\n",
       "      <th>4</th>\n",
       "      <td>4</td>\n",
       "      <td>Sat Apr 20 01:46:12 +0000 2019</td>\n",
       "      <td>NaN</td>\n",
       "      <td>1119416946724880387</td>\n",
       "      <td>@edir_braga @rodrigodasilva a chance pra se te...</td>\n",
       "      <td>O Doutrinador ☭</td>\n",
       "    </tr>\n",
       "  </tbody>\n",
       "</table>\n",
       "</div>"
      ],
      "text/plain": [
       "   Unnamed: 0                    data_criacao  e_sobre_a_empresa  \\\n",
       "0           0  Sat Apr 20 02:16:46 +0000 2019                NaN   \n",
       "1           1  Sat Apr 20 02:03:54 +0000 2019                NaN   \n",
       "2           2  Sat Apr 20 01:57:29 +0000 2019                NaN   \n",
       "3           3  Sat Apr 20 01:54:49 +0000 2019                NaN   \n",
       "4           4  Sat Apr 20 01:46:12 +0000 2019                NaN   \n",
       "\n",
       "                    id                                               text  \\\n",
       "0  1119424638239608832  ainda bem também que tenho todas as ligações d...   \n",
       "1  1119421403080609792  @crf_gusta entro não po, conversa sadia, conve...   \n",
       "2  1119419787627696128  @viinicius_157 @ig_siilvaa conversa tá sadia r...   \n",
       "3  1119419116929077249  @mr_pi31415 @viniciusdeborba @brazbruno05 @rii...   \n",
       "4  1119416946724880387  @edir_braga @rodrigodasilva a chance pra se te...   \n",
       "\n",
       "           usuario  \n",
       "0           ilariê  \n",
       "1  insta: @igo_r02  \n",
       "2          Barbosa  \n",
       "3  mAThEUs Conradt  \n",
       "4  O Doutrinador ☭  "
      ]
     },
     "execution_count": 7,
     "metadata": {},
     "output_type": "execute_result"
    }
   ],
   "source": [
    "tweets_rotuladosDF"
   ]
  },
  {
   "cell_type": "markdown",
   "metadata": {},
   "source": [
    "### Fazendo um pré-processamento nos textos dos tweets"
   ]
  },
  {
   "cell_type": "markdown",
   "metadata": {},
   "source": [
    "### Identificando os brigramas e trigramas encontrados nos twittes"
   ]
  },
  {
   "cell_type": "code",
   "execution_count": 8,
   "metadata": {},
   "outputs": [],
   "source": [
    "tknzr = TweetTokenizer()\n",
    "\n",
    "ngram = {}\n",
    "\n",
    "for indice, linha in tweets_rotuladosDF.iterrows() :\n",
    "    tokens = tknzr.tokenize(linha[tweets_rotuladosDF.text.name])\n",
    "    for count in range(len(tokens)):\n",
    "        if(tokens[count] == 'Sadia' or tokens[count] == 'sadia'):\n",
    "            bigram = (tokens[count - 1], tokens[count])\n",
    "            trigram = (tokens[count - 2], tokens[count - 1], tokens[count])\n",
    "            if ngram.get(bigram) == None:\n",
    "                ngram[bigram] = {\"frequencia\" : 1, \"id_tweets\" : [indice]}\n",
    "            else:\n",
    "                valor = ngram.get(bigram)\n",
    "                valor[\"frequencia\"] += 1\n",
    "                valor[\"id_tweets\"] += [indice]\n",
    "                \n",
    "            if ngram.get(trigram) == None:\n",
    "                ngram[trigram] = {\"frequencia\" : 1, \"id_tweets\" : [indice]}\n",
    "            else:\n",
    "                valor = ngram.get(trigram)\n",
    "                valor[\"frequencia\"] += 1\n",
    "                valor[\"id_tweets\"] += [indice]\n",
    "                "
   ]
  },
  {
   "cell_type": "code",
   "execution_count": 9,
   "metadata": {},
   "outputs": [],
   "source": [
    "ngram = sorted(ngram.items(), key=lambda x: x[1]['frequencia'], reverse=True)"
   ]
  },
  {
   "cell_type": "markdown",
   "metadata": {},
   "source": [
    "Imprimindo os n mais frequetes"
   ]
  },
  {
   "cell_type": "code",
   "execution_count": 10,
   "metadata": {},
   "outputs": [
    {
     "name": "stdout",
     "output_type": "stream",
     "text": [
      "freq: 2 ('conversa', 'sadia')\n",
      "freq: 1 ('conversa', 'tá', 'sadia')\n",
      "freq: 1 ('@riikivargas', 'brincadeira', 'sadia')\n",
      "freq: 1 (',', 'conversa', 'sadia')\n",
      "freq: 1 ('uma', 'amizade', 'sadia')\n",
      "freq: 1 ('brincadeira', 'sadia')\n",
      "freq: 1 ('amizade', 'sadia')\n",
      "freq: 1 ('uma', 'conversa', 'sadia')\n",
      "freq: 1 ('tá', 'sadia')\n"
     ]
    }
   ],
   "source": [
    "n = 100\n",
    "contador = 1\n",
    "for tupla in ngram:\n",
    "    if(contador > n):\n",
    "        break\n",
    "    chaves = tupla[0]\n",
    "    valores = tupla[1]\n",
    "    print(\"freq: \" + str(valores['frequencia']) + \" \" + str(chaves))\n",
    "    contador += 1"
   ]
  },
  {
   "cell_type": "code",
   "execution_count": null,
   "metadata": {},
   "outputs": [],
   "source": []
  }
 ],
 "metadata": {
  "kernelspec": {
   "display_name": "Python 3",
   "language": "python",
   "name": "python3"
  },
  "language_info": {
   "codemirror_mode": {
    "name": "ipython",
    "version": 3
   },
   "file_extension": ".py",
   "mimetype": "text/x-python",
   "name": "python",
   "nbconvert_exporter": "python",
   "pygments_lexer": "ipython3",
   "version": "3.5.5"
  }
 },
 "nbformat": 4,
 "nbformat_minor": 2
}
